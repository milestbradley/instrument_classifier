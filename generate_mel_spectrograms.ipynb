{
  "nbformat": 4,
  "nbformat_minor": 0,
  "metadata": {
    "colab": {
      "provenance": [],
      "gpuType": "T4",
      "mount_file_id": "1KkS8oSuFJX3BJAzp0AGR3-mFWeijChaD",
      "authorship_tag": "ABX9TyPDatfS9eKK3+aYaN0pfZ1D",
      "include_colab_link": true
    },
    "kernelspec": {
      "name": "python3",
      "display_name": "Python 3"
    },
    "language_info": {
      "name": "python"
    },
    "accelerator": "GPU"
  },
  "cells": [
    {
      "cell_type": "markdown",
      "metadata": {
        "id": "view-in-github",
        "colab_type": "text"
      },
      "source": [
        "<a href=\"https://colab.research.google.com/github/milestbradley/instrument_classifier/blob/main/generate_mel_spectrograms.ipynb\" target=\"_parent\"><img src=\"https://colab.research.google.com/assets/colab-badge.svg\" alt=\"Open In Colab\"/></a>"
      ]
    },
    {
      "cell_type": "code",
      "execution_count": null,
      "metadata": {
        "id": "N9UKxs7iMXLu"
      },
      "outputs": [],
      "source": [
        "!pip install wavio\n",
        "!pip install kapre"
      ]
    },
    {
      "cell_type": "code",
      "source": [
        "from scipy.io import wavfile\n",
        "import argparse\n",
        "import os\n",
        "import numpy as np\n",
        "import matplotlib.pyplot as plt\n",
        "import librosa\n",
        "import wavio\n",
        "import kapre\n",
        "import pandas as pd\n",
        "import tensorflow as tf\n",
        "from keras.utils import Sequence\n",
        "from keras import Sequential\n",
        "from keras import layers\n",
        "import h5py"
      ],
      "metadata": {
        "id": "HckA5Z9pMgrZ"
      },
      "execution_count": null,
      "outputs": []
    },
    {
      "cell_type": "code",
      "source": [
        "melgram = kapre.composed.get_melspectrogram_layer(input_shape = (None, 1),\n",
        "                                                  input_data_format = 'channels_last',\n",
        "                                                  sample_rate = 22050,\n",
        "                                                  return_decibel = True,\n",
        "                                                  n_mels = 128)\n",
        "model = Sequential()\n",
        "model.add(melgram)\n",
        "model.summary()\n",
        "model.compile()"
      ],
      "metadata": {
        "colab": {
          "base_uri": "https://localhost:8080/"
        },
        "id": "DVEltSsIMjwe",
        "outputId": "c46b8bf3-d1af-41ac-d3ed-409dcf70dda9"
      },
      "execution_count": null,
      "outputs": [
        {
          "output_type": "stream",
          "name": "stdout",
          "text": [
            "Model: \"sequential_2\"\n",
            "_________________________________________________________________\n",
            " Layer (type)                Output Shape              Param #   \n",
            "=================================================================\n",
            " melspectrogram (Sequential  (None, None, 128, 1)      0         \n",
            " )                                                               \n",
            "                                                                 \n",
            "=================================================================\n",
            "Total params: 0 (0.00 Byte)\n",
            "Trainable params: 0 (0.00 Byte)\n",
            "Non-trainable params: 0 (0.00 Byte)\n",
            "_________________________________________________________________\n"
          ]
        }
      ]
    },
    {
      "cell_type": "code",
      "source": [
        "def save_wavs(wav_dir, save_dir):\n",
        "    for wav in os.listdir(wav_dir):\n",
        "        wav_path = os.path.join(wav_dir, wav)\n",
        "        y, sr = librosa.load(wav_path, sr = None, mono=False)\n",
        "        y = librosa.to_mono(y)\n",
        "        y = np.expand_dims(y, axis=1)\n",
        "        print(y.shape)\n",
        "        y = np.reshape(y, (1, y.shape[0], 1))\n",
        "        y_pred = model.predict(y)\n",
        "        y_pred = tf.squeeze(y_pred, axis = [0, 3])\n",
        "        print(y_pred.shape)\n",
        "        tensor_path = os.path.join(save_dir, wav).replace('wav', 'h5')\n",
        "        with h5py.File(tensor_path, 'w') as hf:\n",
        "            hf.create_dataset('tensor', data=y_pred)\n",
        "            print(f\"Saved file: {tensor_path}\")\n",
        "save_wavs('/content/cla', '/content/drive/MyDrive/Audio_Project/ARMAS_Spectrogams/cla')\n",
        "save_wavs('/content/flu', '/content/drive/MyDrive/Audio_Project/ARMAS_Spectrogams/flu')\n",
        "save_wavs('/content/gac', '/content/drive/MyDrive/Audio_Project/ARMAS_Spectrogams/gac')\n",
        "save_wavs('/content/gel', '/content/drive/MyDrive/Audio_Project/ARMAS_Spectrogams/gel')\n",
        "save_wavs('/content/org', '/content/drive/MyDrive/Audio_Project/ARMAS_Spectrogams/org')\n",
        "save_wavs('/content/pia', '/content/drive/MyDrive/Audio_Project/ARMAS_Spectrogams/pia')\n",
        "save_wavs('/content/sax', '/content/drive/MyDrive/Audio_Project/ARMAS_Spectrogams/sax')\n",
        "save_wavs('/content/tru', '/content/drive/MyDrive/Audio_Project/ARMAS_Spectrogams/tru')\n",
        "save_wavs('/content/vio', '/content/drive/MyDrive/Audio_Project/ARMAS_Spectrogams/vio')\n",
        "save_wavs('/content/voi', '/content/drive/MyDrive/Audio_Project/ARMAS_Spectrogams/voi')"
      ],
      "metadata": {
        "id": "ZJG_XwwHM5tz"
      },
      "execution_count": null,
      "outputs": []
    },
    {
      "cell_type": "code",
      "source": [],
      "metadata": {
        "id": "dpf74tFXQKc0"
      },
      "execution_count": null,
      "outputs": []
    }
  ]
}